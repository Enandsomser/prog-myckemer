{
 "metadata": {
  "language_info": {
   "codemirror_mode": {
    "name": "ipython",
    "version": 3
   },
   "file_extension": ".py",
   "mimetype": "text/x-python",
   "name": "python",
   "nbconvert_exporter": "python",
   "pygments_lexer": "ipython3",
   "version": "3.8.3-final"
  },
  "orig_nbformat": 2,
  "kernelspec": {
   "name": "python3",
   "display_name": "Python 3",
   "language": "python"
  }
 },
 "nbformat": 4,
 "nbformat_minor": 2,
 "cells": [
  {
   "source": [
    "\n",
    "def aritmetisk_summa(n, a1, an):\n",
    "    total = (n * (a1 + an)  / 2)\n",
    "    return total\n",
    "\n",
    "a1 = int(input(\"Fyll i startsiffra : \"))\n",
    "an = int(input(\"Ange sista siffran : \"))\n",
    "n = int(input(\"Anntal siffror : \"))\n",
    "\n",
    "total = aritmetisk_summa(n, a1, an)\n",
    "print(\"\\nDen aritmeiska summan är \" , total)"
   ],
   "cell_type": "code",
   "metadata": {},
   "execution_count": 1,
   "outputs": [
    {
     "output_type": "stream",
     "name": "stdout",
     "text": [
      "\nDen aritmeiska summan är  495100.0\n"
     ]
    }
   ]
  },
  {
   "cell_type": "code",
   "execution_count": 12,
   "metadata": {},
   "outputs": [
    {
     "output_type": "stream",
     "name": "stdout",
     "text": [
      "Summan blir  16.0\n7\n"
     ]
    }
   ],
   "source": [
    "def plussa_med_2(n, a1, an):\n",
    "    total = (n * (a1 + an)  / 2)    \n",
    "    return total\n",
    "\n",
    "a1 = int(input(\"Fyll i startsiffra : \"))\n",
    "n = int(input(\"Antal siffror : \"))\n",
    "an = n*2-1\n",
    "\n",
    "\n",
    "total = plussa_med_2(n, a1, an)\n",
    "print(\"Summan blir \" , total)"
   ]
  },
  {
   "cell_type": "code",
   "execution_count": 8,
   "metadata": {},
   "outputs": [
    {
     "output_type": "stream",
     "name": "stdout",
     "text": [
      "\nDen aritmeiska summan är  5050.0\n"
     ]
    }
   ],
   "source": []
  },
  {
   "cell_type": "code",
   "execution_count": null,
   "metadata": {},
   "outputs": [],
   "source": []
  }
 ]
}